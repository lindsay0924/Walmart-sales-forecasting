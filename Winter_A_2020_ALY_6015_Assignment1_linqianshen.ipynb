{
  "nbformat": 4,
  "nbformat_minor": 0,
  "metadata": {
    "colab": {
      "name": "Winter_A_2020_ALY_6015_Assignment1_linqianshen.ipynb",
      "provenance": [],
      "collapsed_sections": []
    },
    "kernelspec": {
      "name": "python3",
      "display_name": "Python 3"
    }
  },
  "cells": [
    {
      "cell_type": "markdown",
      "metadata": {
        "id": "psb1n0FeiE3W",
        "colab_type": "text"
      },
      "source": [
        "#Name: linqianshen\n",
        "#Class: ALY6015\n",
        "#Term: winter A 2020\n",
        "#Last Update: 1/12/2020"
      ]
    },
    {
      "cell_type": "code",
      "metadata": {
        "id": "JlZkYzaHuWd5",
        "colab_type": "code",
        "colab": {}
      },
      "source": [
        "import numpy as np\n",
        "import pandas as pd\n",
        "import os\n",
        "from statistics import mean\n",
        "import seaborn as sns\n",
        "import matplotlib as plt"
      ],
      "execution_count": 0,
      "outputs": []
    },
    {
      "cell_type": "code",
      "metadata": {
        "id": "HeU4w1oMuZay",
        "colab_type": "code",
        "outputId": "c90f2419-1446-4c6e-ea94-d62cfd156c39",
        "colab": {
          "base_uri": "https://localhost:8080/",
          "height": 34
        }
      },
      "source": [
        "from google.colab import drive\n",
        "drive.mount('/content/gdrive')"
      ],
      "execution_count": 0,
      "outputs": [
        {
          "output_type": "stream",
          "text": [
            "Drive already mounted at /content/gdrive; to attempt to forcibly remount, call drive.mount(\"/content/gdrive\", force_remount=True).\n"
          ],
          "name": "stdout"
        }
      ]
    },
    {
      "cell_type": "code",
      "metadata": {
        "id": "CEXO9u_61pze",
        "colab_type": "code",
        "outputId": "b5f77054-1e42-4698-8e7f-56bebb1ad959",
        "colab": {
          "base_uri": "https://localhost:8080/",
          "height": 153
        }
      },
      "source": [
        "\n",
        "url = \"https://docs.google.com/spreadsheets/d/1PswB83fByccE7oL9iS3XnfwwDQo4AL-qW9ljBL_2ZQ4/gviz/tq?tqx=out:csv\"\n",
        "df = pd.read_csv(url)\n",
        "\n",
        "print(df.head())"
      ],
      "execution_count": 0,
      "outputs": [
        {
          "output_type": "stream",
          "text": [
            "   Store        Date  Temperature  ...         CPI  Unemployment  IsHoliday\n",
            "0      1  2010-02-05        42.31  ...  211.096358         8.106      False\n",
            "1      1  2010-02-12        38.51  ...  211.242170         8.106       True\n",
            "2      1  2010-02-19        39.93  ...  211.289143         8.106      False\n",
            "3      1  2010-02-26        46.63  ...  211.319643         8.106      False\n",
            "4      1  2010-03-05        46.50  ...  211.350143         8.106      False\n",
            "\n",
            "[5 rows x 12 columns]\n"
          ],
          "name": "stdout"
        }
      ]
    },
    {
      "cell_type": "code",
      "metadata": {
        "id": "KIN1lNgk8TC2",
        "colab_type": "code",
        "outputId": "b4c9107d-8f65-41c1-c3ae-502f6357456b",
        "colab": {
          "base_uri": "https://localhost:8080/",
          "height": 238
        }
      },
      "source": [
        "df.isnull().sum()"
      ],
      "execution_count": 0,
      "outputs": [
        {
          "output_type": "execute_result",
          "data": {
            "text/plain": [
              "Store              0\n",
              "Date               0\n",
              "Temperature        0\n",
              "Fuel_Price         0\n",
              "MarkDown1       4158\n",
              "MarkDown2       5269\n",
              "MarkDown3       4577\n",
              "MarkDown4       4726\n",
              "MarkDown5       4140\n",
              "CPI              585\n",
              "Unemployment     585\n",
              "IsHoliday          0\n",
              "dtype: int64"
            ]
          },
          "metadata": {
            "tags": []
          },
          "execution_count": 37
        }
      ]
    },
    {
      "cell_type": "code",
      "metadata": {
        "id": "WmXY0LPs9XDo",
        "colab_type": "code",
        "colab": {}
      },
      "source": [
        "#feature engineering\n",
        "df['CPI'] = df['CPI'].fillna(mean(df['CPI']))\n",
        "df['Unemployment'] = df['Unemployment'].fillna(mean(df['Unemployment']))\n",
        "df['MarkDown1'] = df['MarkDown1'].fillna(0)\n",
        "df['MarkDown2'] = df['MarkDown2'].fillna(0)\n",
        "df['MarkDown3'] = df['MarkDown3'].fillna(0)\n",
        "df['MarkDown4'] = df['MarkDown4'].fillna(0)\n",
        "df['MarkDown5'] = df['MarkDown5'].fillna(0)"
      ],
      "execution_count": 0,
      "outputs": []
    },
    {
      "cell_type": "code",
      "metadata": {
        "id": "2u7m2V3kAfZM",
        "colab_type": "code",
        "outputId": "5f9b39f6-399f-4898-a6c6-5ec979e804c6",
        "colab": {
          "base_uri": "https://localhost:8080/",
          "height": 119
        }
      },
      "source": [
        "\n",
        "store_url = \"https://docs.google.com/spreadsheets/d/1ONV5_6zUelzbecf9vHeU4RqoH6FtkLEcAdrQG8w0FCc/gviz/tq?tqx=out:csv\"\n",
        "stores = pd.read_csv(store_url)\n",
        "\n",
        "print(stores.head())"
      ],
      "execution_count": 0,
      "outputs": [
        {
          "output_type": "stream",
          "text": [
            "   Store Type    Size\n",
            "0      1    A  151315\n",
            "1      2    A  202307\n",
            "2      3    B   37392\n",
            "3      4    A  205863\n",
            "4      5    B   34875\n"
          ],
          "name": "stdout"
        }
      ]
    },
    {
      "cell_type": "code",
      "metadata": {
        "id": "GVyJPET4DZbg",
        "colab_type": "code",
        "outputId": "5b80c7c3-a7aa-4e94-c80d-d202af6e00b4",
        "colab": {
          "base_uri": "https://localhost:8080/",
          "height": 119
        }
      },
      "source": [
        "train_url = \"https://docs.google.com/spreadsheets/d/1adAKnYD4dGOmkhHnX5G_mJZtrXE4Y2qjkSmGlKjyPOc/gviz/tq?tqx=out:csv\"\n",
        "trains = pd.read_csv(train_url)\n",
        "print(trains.head())"
      ],
      "execution_count": 0,
      "outputs": [
        {
          "output_type": "stream",
          "text": [
            "   Store  Dept        Date  Weekly_Sales  IsHoliday\n",
            "0      1     1  2010-02-05      24924.50      False\n",
            "1      1     1  2010-02-12      46039.49       True\n",
            "2      1     1  2010-02-19      41595.55      False\n",
            "3      1     1  2010-02-26      19403.54      False\n",
            "4      1     1  2010-03-05      21827.90      False\n"
          ],
          "name": "stdout"
        }
      ]
    },
    {
      "cell_type": "code",
      "metadata": {
        "id": "GvVyoLTeBMeb",
        "colab_type": "code",
        "outputId": "ab3cfd68-0087-4716-a1b1-283dd076fcb8",
        "colab": {
          "base_uri": "https://localhost:8080/",
          "height": 309
        }
      },
      "source": [
        "#merge all features with training data and stores data\n",
        "new_data = pd.merge(df, trains, on=['Store','Date','IsHoliday'], how='inner')\n",
        "data = pd.merge(new_data,stores,how='inner',on=['Store'])\n",
        "data.head()"
      ],
      "execution_count": 0,
      "outputs": [
        {
          "output_type": "execute_result",
          "data": {
            "text/html": [
              "<div>\n",
              "<style scoped>\n",
              "    .dataframe tbody tr th:only-of-type {\n",
              "        vertical-align: middle;\n",
              "    }\n",
              "\n",
              "    .dataframe tbody tr th {\n",
              "        vertical-align: top;\n",
              "    }\n",
              "\n",
              "    .dataframe thead th {\n",
              "        text-align: right;\n",
              "    }\n",
              "</style>\n",
              "<table border=\"1\" class=\"dataframe\">\n",
              "  <thead>\n",
              "    <tr style=\"text-align: right;\">\n",
              "      <th></th>\n",
              "      <th>Store</th>\n",
              "      <th>Date</th>\n",
              "      <th>Temperature</th>\n",
              "      <th>Fuel_Price</th>\n",
              "      <th>MarkDown1</th>\n",
              "      <th>MarkDown2</th>\n",
              "      <th>MarkDown3</th>\n",
              "      <th>MarkDown4</th>\n",
              "      <th>MarkDown5</th>\n",
              "      <th>CPI</th>\n",
              "      <th>Unemployment</th>\n",
              "      <th>IsHoliday</th>\n",
              "      <th>Dept</th>\n",
              "      <th>Weekly_Sales</th>\n",
              "      <th>Type</th>\n",
              "      <th>Size</th>\n",
              "    </tr>\n",
              "  </thead>\n",
              "  <tbody>\n",
              "    <tr>\n",
              "      <th>0</th>\n",
              "      <td>1</td>\n",
              "      <td>2010-02-05</td>\n",
              "      <td>42.31</td>\n",
              "      <td>2.572</td>\n",
              "      <td>0.0</td>\n",
              "      <td>0.0</td>\n",
              "      <td>0.0</td>\n",
              "      <td>0.0</td>\n",
              "      <td>0.0</td>\n",
              "      <td>211.096358</td>\n",
              "      <td>8.106</td>\n",
              "      <td>False</td>\n",
              "      <td>1</td>\n",
              "      <td>24924.50</td>\n",
              "      <td>A</td>\n",
              "      <td>151315</td>\n",
              "    </tr>\n",
              "    <tr>\n",
              "      <th>1</th>\n",
              "      <td>1</td>\n",
              "      <td>2010-02-05</td>\n",
              "      <td>42.31</td>\n",
              "      <td>2.572</td>\n",
              "      <td>0.0</td>\n",
              "      <td>0.0</td>\n",
              "      <td>0.0</td>\n",
              "      <td>0.0</td>\n",
              "      <td>0.0</td>\n",
              "      <td>211.096358</td>\n",
              "      <td>8.106</td>\n",
              "      <td>False</td>\n",
              "      <td>2</td>\n",
              "      <td>50605.27</td>\n",
              "      <td>A</td>\n",
              "      <td>151315</td>\n",
              "    </tr>\n",
              "    <tr>\n",
              "      <th>2</th>\n",
              "      <td>1</td>\n",
              "      <td>2010-02-05</td>\n",
              "      <td>42.31</td>\n",
              "      <td>2.572</td>\n",
              "      <td>0.0</td>\n",
              "      <td>0.0</td>\n",
              "      <td>0.0</td>\n",
              "      <td>0.0</td>\n",
              "      <td>0.0</td>\n",
              "      <td>211.096358</td>\n",
              "      <td>8.106</td>\n",
              "      <td>False</td>\n",
              "      <td>3</td>\n",
              "      <td>13740.12</td>\n",
              "      <td>A</td>\n",
              "      <td>151315</td>\n",
              "    </tr>\n",
              "    <tr>\n",
              "      <th>3</th>\n",
              "      <td>1</td>\n",
              "      <td>2010-02-05</td>\n",
              "      <td>42.31</td>\n",
              "      <td>2.572</td>\n",
              "      <td>0.0</td>\n",
              "      <td>0.0</td>\n",
              "      <td>0.0</td>\n",
              "      <td>0.0</td>\n",
              "      <td>0.0</td>\n",
              "      <td>211.096358</td>\n",
              "      <td>8.106</td>\n",
              "      <td>False</td>\n",
              "      <td>4</td>\n",
              "      <td>39954.04</td>\n",
              "      <td>A</td>\n",
              "      <td>151315</td>\n",
              "    </tr>\n",
              "    <tr>\n",
              "      <th>4</th>\n",
              "      <td>1</td>\n",
              "      <td>2010-02-05</td>\n",
              "      <td>42.31</td>\n",
              "      <td>2.572</td>\n",
              "      <td>0.0</td>\n",
              "      <td>0.0</td>\n",
              "      <td>0.0</td>\n",
              "      <td>0.0</td>\n",
              "      <td>0.0</td>\n",
              "      <td>211.096358</td>\n",
              "      <td>8.106</td>\n",
              "      <td>False</td>\n",
              "      <td>5</td>\n",
              "      <td>32229.38</td>\n",
              "      <td>A</td>\n",
              "      <td>151315</td>\n",
              "    </tr>\n",
              "  </tbody>\n",
              "</table>\n",
              "</div>"
            ],
            "text/plain": [
              "   Store        Date  Temperature  Fuel_Price  ...  Dept  Weekly_Sales  Type    Size\n",
              "0      1  2010-02-05        42.31       2.572  ...     1      24924.50     A  151315\n",
              "1      1  2010-02-05        42.31       2.572  ...     2      50605.27     A  151315\n",
              "2      1  2010-02-05        42.31       2.572  ...     3      13740.12     A  151315\n",
              "3      1  2010-02-05        42.31       2.572  ...     4      39954.04     A  151315\n",
              "4      1  2010-02-05        42.31       2.572  ...     5      32229.38     A  151315\n",
              "\n",
              "[5 rows x 16 columns]"
            ]
          },
          "metadata": {
            "tags": []
          },
          "execution_count": 41
        }
      ]
    },
    {
      "cell_type": "markdown",
      "metadata": {
        "id": "uwEowWu0e9LQ",
        "colab_type": "text"
      },
      "source": [
        "Analysis\n",
        "1.type A has the largest size of stores and Type C has the smallest sizee of stores "
      ]
    },
    {
      "cell_type": "code",
      "metadata": {
        "id": "PJt9w0S89uk9",
        "colab_type": "code",
        "outputId": "dd14bf9d-a502-456f-f436-9bb690fc1abb",
        "colab": {
          "base_uri": "https://localhost:8080/",
          "height": 295
        }
      },
      "source": [
        "#boxplot for sizes of types of stores\n",
        "store_type = pd.concat([stores['Type'], stores['Size']], axis=1)\n",
        "fig = sns.boxplot(x='Type', y='Size', data=store_type).set_title(\"size of types of stores\")"
      ],
      "execution_count": 0,
      "outputs": [
        {
          "output_type": "display_data",
          "data": {
            "image/png": "[encoded data removed]",
            "text/plain": [
              "<Figure size 432x288 with 1 Axes>"
            ]
          },
          "metadata": {
            "tags": []
          }
        }
      ]
    },
    {
      "cell_type": "markdown",
      "metadata": {
        "id": "UKC_JlZkfdn9",
        "colab_type": "text"
      },
      "source": [
        "Analysis 2 \n",
        "Type C hit the total largest weekly sales by average and by maximum, though it has the smallest size of stores."
      ]
    },
    {
      "cell_type": "code",
      "metadata": {
        "id": "jz4hwQeBDDfz",
        "colab_type": "code",
        "outputId": "d5c50849-7ee7-4f25-9acf-ef632d3a4c4e",
        "colab": {
          "base_uri": "https://localhost:8080/",
          "height": 295
        }
      },
      "source": [
        "#boxplot for weekly sales for different types of stores\n",
        "store_sale = pd.concat([stores['Type'], trains['Weekly_Sales']], axis=1)\n",
        "fig = sns.boxplot(x='Type', y='Weekly_Sales', data=store_sale, showfliers=False).set_title(\"weekly sales for different types of stores\")"
      ],
      "execution_count": 0,
      "outputs": [
        {
          "output_type": "display_data",
          "data": {
            "image/png": "[encoded data removed]",
            "text/plain": [
              "<Figure size 432x288 with 1 Axes>"
            ]
          },
          "metadata": {
            "tags": []
          }
        }
      ]
    },
    {
      "cell_type": "markdown",
      "metadata": {
        "id": "kSA2H5H_f_-t",
        "colab_type": "text"
      },
      "source": [
        "Analysis 3\n",
        "We see that the holiday sales is about 7.5% of the non-holiday sales."
      ]
    },
    {
      "cell_type": "code",
      "metadata": {
        "id": "TCEs0te6ERYL",
        "colab_type": "code",
        "outputId": "cc754da2-13ad-4442-a1d9-ff15408df7a8",
        "colab": {
          "base_uri": "https://localhost:8080/",
          "height": 51
        }
      },
      "source": [
        "# total count of sales on holidays and non holidays\n",
        "print('sales-non-holiday : ',trains[trains['IsHoliday']==False]['Weekly_Sales'].count().round(1))\n",
        "print('sales-holiday : ',trains[trains['IsHoliday']==True]['Weekly_Sales'].count().round(1))"
      ],
      "execution_count": 0,
      "outputs": [
        {
          "output_type": "stream",
          "text": [
            "sales-non-holiday :  391909\n",
            "sales-holiday :  29661\n"
          ],
          "name": "stdout"
        }
      ]
    },
    {
      "cell_type": "code",
      "metadata": {
        "id": "KQLxev9yE1Ei",
        "colab_type": "code",
        "outputId": "3c232759-eb89-4a30-a698-3157d3c3f6ac",
        "colab": {
          "base_uri": "https://localhost:8080/",
          "height": 348
        }
      },
      "source": [
        "# Plotting correlation between all important features\n",
        "corr = data.corr()\n",
        "ax = sns.heatmap(\n",
        "    corr, \n",
        "    vmin=-1, vmax=1, center=0,\n",
        "    cmap=sns.diverging_palette(20, 220, n=200),\n",
        "    square=True\n",
        ").set_title(\"correlation between all important features\")"
      ],
      "execution_count": 0,
      "outputs": [
        {
          "output_type": "display_data",
          "data": {
            "image/png": "[encoded data removed]",
            "text/plain": [
              "<Figure size 432x288 with 2 Axes>"
            ]
          },
          "metadata": {
            "tags": []
          }
        }
      ]
    },
    {
      "cell_type": "markdown",
      "metadata": {
        "id": "y0n-KCSqgbw5",
        "colab_type": "text"
      },
      "source": [
        "Analysis 4\n",
        "When there is high inflation(CPI is large), it did not affect the weekly sales"
      ]
    },
    {
      "cell_type": "code",
      "metadata": {
        "id": "-89VR4oqGRZG",
        "colab_type": "code",
        "outputId": "b4cbf7d0-3b29-4536-f566-dc1277c3a945",
        "colab": {
          "base_uri": "https://localhost:8080/",
          "height": 386
        }
      },
      "source": [
        "\n",
        "x = data['CPI']\n",
        "y = data['Weekly_Sales']\n",
        "sns.set_context(\"notebook\", font_scale=1.1)\n",
        "sns.set_style(\"ticks\")\n",
        "lm=sns.lmplot('CPI', # Horizontal axis\n",
        "           'Weekly_Sales', # Vertical axis\n",
        "           data=data, # Data source\n",
        "           fit_reg=False, # Don't fix a regression line\n",
        "           scatter_kws={\"marker\": \"D\", # Set marker style\n",
        "                        \"s\": 100})\n",
        "fig = lm.fig \n",
        "fig.suptitle('weekly sales correlation with CPI', fontsize=12)\n"
      ],
      "execution_count": 0,
      "outputs": [
        {
          "output_type": "execute_result",
          "data": {
            "text/plain": [
              "Text(0.5, 0.98, 'weekly sales correlation with CPI')"
            ]
          },
          "metadata": {
            "tags": []
          },
          "execution_count": 29
        },
        {
          "output_type": "display_data",
          "data": {
            "image/png": "[encoded data removed]",
            "text/plain": [
              "<Figure size 360x360 with 1 Axes>"
            ]
          },
          "metadata": {
            "tags": []
          }
        }
      ]
    },
    {
      "cell_type": "markdown",
      "metadata": {
        "id": "4cmMuMYlg9BS",
        "colab_type": "text"
      },
      "source": [
        "Conclusion:\n",
        "The walmart 45 stores data shows that type C has the most weekly sales and should add more such type store.\n",
        "The holiday season is 6% time of the whole year but has 7.5% sales volume of the non-holiday season. It is though that in recent years, the number of sales in holiday season increases.\n",
        "Considering the inflation, it does not affect the sales."
      ]
    }
  ]
}